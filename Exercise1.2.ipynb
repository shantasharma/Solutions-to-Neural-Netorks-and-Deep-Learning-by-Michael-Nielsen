{
  "nbformat": 4,
  "nbformat_minor": 0,
  "metadata": {
    "colab": {
      "name": "Chapter 1 ex-2",
      "provenance": [],
      "collapsed_sections": [],
      "authorship_tag": "ABX9TyMHqDR1zfCrNK7+Wiwhxy/M",
      "include_colab_link": true
    },
    "kernelspec": {
      "name": "python3",
      "display_name": "Python 3"
    }
  },
  "cells": [
    {
      "cell_type": "markdown",
      "metadata": {
        "id": "view-in-github",
        "colab_type": "text"
      },
      "source": [
        "<a href=\"https://colab.research.google.com/github/shantasharma/Solutions-to-Neural-Netorks-and-Deep-Learning-by-Michael-Nielsen/blob/master/Chapter_1_ex_2.ipynb\" target=\"_parent\"><img src=\"https://colab.research.google.com/assets/colab-badge.svg\" alt=\"Open In Colab\"/></a>"
      ]
    },
    {
      "cell_type": "code",
      "metadata": {
        "id": "WLPUpGW10f1i",
        "colab_type": "code",
        "colab": {}
      },
      "source": [
        "import numpy as np\n",
        "\n",
        "def sigmoid(x):\n",
        "  return (1/(1+np.exp(-x)))"
      ],
      "execution_count": null,
      "outputs": []
    },
    {
      "cell_type": "code",
      "metadata": {
        "id": "FSbG2vKN0pj2",
        "colab_type": "code",
        "colab": {
          "base_uri": "https://localhost:8080/",
          "height": 34
        },
        "outputId": "08f47042-13ad-40c5-b76c-1184e653f91d"
      },
      "source": [
        "\n",
        "wij = np.array([[-10, -10, -10, -10, -10, -10, -10, -10, 10, 10],\n",
        "       [-10, -10, -10, -10, 10, 10, 10, 10, -10, -10],\n",
        "       [-10, -10, 10, 10, -10, -10, 10, 10, -10, -10],\n",
        "       [-10, 10, -10, 10, -10, 10, -10, 10, -10, 10]])\n",
        "\n",
        "\n",
        "activation_vector = [0.01, 0.01, 0.01, 0.01, 0.01, 0.01, 0.01, 0.01, 0.01, 0.01]\n",
        "activation_vector[4] = 0.99\n",
        "\n",
        "act = []\n",
        "\n",
        "result = wij*activation_vector\n",
        "for i in range(1, 5):\n",
        "  n = np.sum(result[i-1:i])\n",
        "  act.append(n)\n",
        "\n",
        "\n",
        "for n in act:\n",
        "  val = sigmoid(5+n)\n",
        "  if val > 0.5:\n",
        "    print(1, end = '')\n",
        "  else:\n",
        "    print(0, end = '')\n"
      ],
      "execution_count": null,
      "outputs": [
        {
          "output_type": "stream",
          "text": [
            "0100"
          ],
          "name": "stdout"
        }
      ]
    },
    {
      "cell_type": "markdown",
      "metadata": {
        "id": "yK7aroJiLoWC",
        "colab_type": "text"
      },
      "source": [
        "Link to explanation\n",
        "https://drive.google.com/file/d/1sIaaVsHl_ch3vPIsR2Yks16J4VXrPm_V/view?usp=sharing\n",
        "\n",
        "reference:\n",
        "https://datascience.stackexchange.com/questions/6639/extra-output-layer-in-a-neural-network-decimal-to-binary"
      ]
    },
    {
      "cell_type": "code",
      "metadata": {
        "id": "H-F19_bFL0QK",
        "colab_type": "code",
        "colab": {}
      },
      "source": [
        ""
      ],
      "execution_count": null,
      "outputs": []
    }
  ]
}
